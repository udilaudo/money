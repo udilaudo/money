{
 "cells": [
  {
   "cell_type": "code",
   "execution_count": 8,
   "metadata": {},
   "outputs": [],
   "source": [
    "import pandas as pd\n",
    "import numpy as np"
   ]
  },
  {
   "cell_type": "code",
   "execution_count": 2,
   "metadata": {},
   "outputs": [],
   "source": [
    "# create an empty DataFrame with columns\n",
    "\n",
    "columns = [ 'Amount', 'Category', 'Description','Y', 'M', 'D','Type']\n",
    "\n",
    "df = pd.DataFrame(columns=columns)"
   ]
  },
  {
   "cell_type": "code",
   "execution_count": 3,
   "metadata": {},
   "outputs": [
    {
     "data": {
      "text/html": [
       "<div>\n",
       "<style scoped>\n",
       "    .dataframe tbody tr th:only-of-type {\n",
       "        vertical-align: middle;\n",
       "    }\n",
       "\n",
       "    .dataframe tbody tr th {\n",
       "        vertical-align: top;\n",
       "    }\n",
       "\n",
       "    .dataframe thead th {\n",
       "        text-align: right;\n",
       "    }\n",
       "</style>\n",
       "<table border=\"1\" class=\"dataframe\">\n",
       "  <thead>\n",
       "    <tr style=\"text-align: right;\">\n",
       "      <th></th>\n",
       "      <th>Amount</th>\n",
       "      <th>Category</th>\n",
       "      <th>Description</th>\n",
       "      <th>Y</th>\n",
       "      <th>M</th>\n",
       "      <th>D</th>\n",
       "      <th>Type</th>\n",
       "    </tr>\n",
       "  </thead>\n",
       "  <tbody>\n",
       "  </tbody>\n",
       "</table>\n",
       "</div>"
      ],
      "text/plain": [
       "Empty DataFrame\n",
       "Columns: [Amount, Category, Description, Y, M, D, Type]\n",
       "Index: []"
      ]
     },
     "execution_count": 3,
     "metadata": {},
     "output_type": "execute_result"
    }
   ],
   "source": [
    "df"
   ]
  },
  {
   "cell_type": "code",
   "execution_count": 4,
   "metadata": {},
   "outputs": [
    {
     "name": "stderr",
     "output_type": "stream",
     "text": [
      "/tmp/ipykernel_4724/3814888302.py:3: FutureWarning: The frame.append method is deprecated and will be removed from pandas in a future version. Use pandas.concat instead.\n",
      "  df = df.append({'Amount': 100, 'Category': 'Food', 'Description': 'Pizza', 'Y': 2024, 'M': 5, 'D': 1, 'Type': 0}, ignore_index=True)\n"
     ]
    },
    {
     "data": {
      "text/html": [
       "<div>\n",
       "<style scoped>\n",
       "    .dataframe tbody tr th:only-of-type {\n",
       "        vertical-align: middle;\n",
       "    }\n",
       "\n",
       "    .dataframe tbody tr th {\n",
       "        vertical-align: top;\n",
       "    }\n",
       "\n",
       "    .dataframe thead th {\n",
       "        text-align: right;\n",
       "    }\n",
       "</style>\n",
       "<table border=\"1\" class=\"dataframe\">\n",
       "  <thead>\n",
       "    <tr style=\"text-align: right;\">\n",
       "      <th></th>\n",
       "      <th>Amount</th>\n",
       "      <th>Category</th>\n",
       "      <th>Description</th>\n",
       "      <th>Y</th>\n",
       "      <th>M</th>\n",
       "      <th>D</th>\n",
       "      <th>Type</th>\n",
       "    </tr>\n",
       "  </thead>\n",
       "  <tbody>\n",
       "    <tr>\n",
       "      <th>0</th>\n",
       "      <td>100</td>\n",
       "      <td>Food</td>\n",
       "      <td>Pizza</td>\n",
       "      <td>2024</td>\n",
       "      <td>5</td>\n",
       "      <td>1</td>\n",
       "      <td>0</td>\n",
       "    </tr>\n",
       "  </tbody>\n",
       "</table>\n",
       "</div>"
      ],
      "text/plain": [
       "  Amount Category Description     Y  M  D Type\n",
       "0    100     Food       Pizza  2024  5  1    0"
      ]
     },
     "execution_count": 4,
     "metadata": {},
     "output_type": "execute_result"
    }
   ],
   "source": [
    "# add a row to the DataFrame\n",
    "\n",
    "df = df.append({'Amount': 100, 'Category': 'Food', 'Description': 'Pizza', 'Y': 2024, 'M': 5, 'D': 1, 'Type': 0}, ignore_index=True)\n",
    "df"
   ]
  },
  {
   "cell_type": "code",
   "execution_count": 5,
   "metadata": {},
   "outputs": [
    {
     "name": "stderr",
     "output_type": "stream",
     "text": [
      "/tmp/ipykernel_4724/1584297082.py:1: FutureWarning: The frame.append method is deprecated and will be removed from pandas in a future version. Use pandas.concat instead.\n",
      "  df = df.append({'Amount': 25, 'Category': 'Food', 'Description': 'Cena', 'Y': 2024, 'M': 4, 'D': 2,'Type': 0}, ignore_index=True)\n",
      "/tmp/ipykernel_4724/1584297082.py:2: FutureWarning: The frame.append method is deprecated and will be removed from pandas in a future version. Use pandas.concat instead.\n",
      "  df = df.append({'Amount': 10, 'Category': 'Sport', 'Description': 'Calcetto', 'Y': 2024, 'M': 5, 'D': 3,'Type': 0}, ignore_index=True)\n",
      "/tmp/ipykernel_4724/1584297082.py:3: FutureWarning: The frame.append method is deprecated and will be removed from pandas in a future version. Use pandas.concat instead.\n",
      "  df = df.append({'Amount': 70, 'Category': 'Bollette', 'Description': 'Luce', 'Y': 2024, 'M': 4, 'D': 5,'Type': 0}, ignore_index=True)\n",
      "/tmp/ipykernel_4724/1584297082.py:4: FutureWarning: The frame.append method is deprecated and will be removed from pandas in a future version. Use pandas.concat instead.\n",
      "  df = df.append({'Amount': 14, 'Category': 'Food', 'Description': 'spesa', 'Y': 2024, 'M': 5, 'D': 7,'Type': 0}, ignore_index=True)\n",
      "/tmp/ipykernel_4724/1584297082.py:5: FutureWarning: The frame.append method is deprecated and will be removed from pandas in a future version. Use pandas.concat instead.\n",
      "  df = df.append({'Amount': 33, 'Category': 'Bollette', 'Description': 'gas', 'Y': 2024, 'M': 3, 'D': 1,'Type': 0}, ignore_index=True)\n"
     ]
    }
   ],
   "source": [
    "df = df.append({'Amount': 25, 'Category': 'Food', 'Description': 'Cena', 'Y': 2024, 'M': 4, 'D': 2,'Type': 0}, ignore_index=True)\n",
    "df = df.append({'Amount': 10, 'Category': 'Sport', 'Description': 'Calcetto', 'Y': 2024, 'M': 5, 'D': 3,'Type': 0}, ignore_index=True)\n",
    "df = df.append({'Amount': 70, 'Category': 'Bollette', 'Description': 'Luce', 'Y': 2024, 'M': 4, 'D': 5,'Type': 0}, ignore_index=True)\n",
    "df = df.append({'Amount': 14, 'Category': 'Food', 'Description': 'spesa', 'Y': 2024, 'M': 5, 'D': 7,'Type': 0}, ignore_index=True)\n",
    "df = df.append({'Amount': 33, 'Category': 'Bollette', 'Description': 'gas', 'Y': 2024, 'M': 3, 'D': 1,'Type': 0}, ignore_index=True)\n"
   ]
  },
  {
   "cell_type": "code",
   "execution_count": 6,
   "metadata": {},
   "outputs": [
    {
     "data": {
      "text/html": [
       "<div>\n",
       "<style scoped>\n",
       "    .dataframe tbody tr th:only-of-type {\n",
       "        vertical-align: middle;\n",
       "    }\n",
       "\n",
       "    .dataframe tbody tr th {\n",
       "        vertical-align: top;\n",
       "    }\n",
       "\n",
       "    .dataframe thead th {\n",
       "        text-align: right;\n",
       "    }\n",
       "</style>\n",
       "<table border=\"1\" class=\"dataframe\">\n",
       "  <thead>\n",
       "    <tr style=\"text-align: right;\">\n",
       "      <th></th>\n",
       "      <th>Amount</th>\n",
       "      <th>Category</th>\n",
       "      <th>Description</th>\n",
       "      <th>Y</th>\n",
       "      <th>M</th>\n",
       "      <th>D</th>\n",
       "      <th>Type</th>\n",
       "    </tr>\n",
       "  </thead>\n",
       "  <tbody>\n",
       "    <tr>\n",
       "      <th>0</th>\n",
       "      <td>100</td>\n",
       "      <td>Food</td>\n",
       "      <td>Pizza</td>\n",
       "      <td>2024</td>\n",
       "      <td>5</td>\n",
       "      <td>1</td>\n",
       "      <td>0</td>\n",
       "    </tr>\n",
       "    <tr>\n",
       "      <th>1</th>\n",
       "      <td>25</td>\n",
       "      <td>Food</td>\n",
       "      <td>Cena</td>\n",
       "      <td>2024</td>\n",
       "      <td>4</td>\n",
       "      <td>2</td>\n",
       "      <td>0</td>\n",
       "    </tr>\n",
       "    <tr>\n",
       "      <th>2</th>\n",
       "      <td>10</td>\n",
       "      <td>Sport</td>\n",
       "      <td>Calcetto</td>\n",
       "      <td>2024</td>\n",
       "      <td>5</td>\n",
       "      <td>3</td>\n",
       "      <td>0</td>\n",
       "    </tr>\n",
       "    <tr>\n",
       "      <th>3</th>\n",
       "      <td>70</td>\n",
       "      <td>Bollette</td>\n",
       "      <td>Luce</td>\n",
       "      <td>2024</td>\n",
       "      <td>4</td>\n",
       "      <td>5</td>\n",
       "      <td>0</td>\n",
       "    </tr>\n",
       "    <tr>\n",
       "      <th>4</th>\n",
       "      <td>14</td>\n",
       "      <td>Food</td>\n",
       "      <td>spesa</td>\n",
       "      <td>2024</td>\n",
       "      <td>5</td>\n",
       "      <td>7</td>\n",
       "      <td>0</td>\n",
       "    </tr>\n",
       "    <tr>\n",
       "      <th>5</th>\n",
       "      <td>33</td>\n",
       "      <td>Bollette</td>\n",
       "      <td>gas</td>\n",
       "      <td>2024</td>\n",
       "      <td>3</td>\n",
       "      <td>1</td>\n",
       "      <td>0</td>\n",
       "    </tr>\n",
       "  </tbody>\n",
       "</table>\n",
       "</div>"
      ],
      "text/plain": [
       "  Amount  Category Description     Y  M  D Type\n",
       "0    100      Food       Pizza  2024  5  1    0\n",
       "1     25      Food        Cena  2024  4  2    0\n",
       "2     10     Sport    Calcetto  2024  5  3    0\n",
       "3     70  Bollette        Luce  2024  4  5    0\n",
       "4     14      Food       spesa  2024  5  7    0\n",
       "5     33  Bollette         gas  2024  3  1    0"
      ]
     },
     "execution_count": 6,
     "metadata": {},
     "output_type": "execute_result"
    }
   ],
   "source": [
    "df"
   ]
  },
  {
   "cell_type": "code",
   "execution_count": 7,
   "metadata": {},
   "outputs": [
    {
     "data": {
      "text/plain": [
       "252"
      ]
     },
     "execution_count": 7,
     "metadata": {},
     "output_type": "execute_result"
    }
   ],
   "source": [
    "df['Amount'].sum()"
   ]
  },
  {
   "cell_type": "code",
   "execution_count": 8,
   "metadata": {},
   "outputs": [
    {
     "data": {
      "text/plain": [
       "139"
      ]
     },
     "execution_count": 8,
     "metadata": {},
     "output_type": "execute_result"
    }
   ],
   "source": [
    "df[df['Category'] == 'Food']['Amount'].sum()"
   ]
  },
  {
   "cell_type": "code",
   "execution_count": 11,
   "metadata": {},
   "outputs": [
    {
     "data": {
      "text/html": [
       "<div>\n",
       "<style scoped>\n",
       "    .dataframe tbody tr th:only-of-type {\n",
       "        vertical-align: middle;\n",
       "    }\n",
       "\n",
       "    .dataframe tbody tr th {\n",
       "        vertical-align: top;\n",
       "    }\n",
       "\n",
       "    .dataframe thead th {\n",
       "        text-align: right;\n",
       "    }\n",
       "</style>\n",
       "<table border=\"1\" class=\"dataframe\">\n",
       "  <thead>\n",
       "    <tr style=\"text-align: right;\">\n",
       "      <th></th>\n",
       "      <th>Amount</th>\n",
       "      <th>Category</th>\n",
       "      <th>Description</th>\n",
       "      <th>Y</th>\n",
       "      <th>M</th>\n",
       "      <th>D</th>\n",
       "      <th>Type</th>\n",
       "    </tr>\n",
       "  </thead>\n",
       "  <tbody>\n",
       "    <tr>\n",
       "      <th>3</th>\n",
       "      <td>70</td>\n",
       "      <td>Bollette</td>\n",
       "      <td>Luce</td>\n",
       "      <td>2024</td>\n",
       "      <td>4</td>\n",
       "      <td>5</td>\n",
       "      <td>0</td>\n",
       "    </tr>\n",
       "    <tr>\n",
       "      <th>5</th>\n",
       "      <td>33</td>\n",
       "      <td>Bollette</td>\n",
       "      <td>gas</td>\n",
       "      <td>2024</td>\n",
       "      <td>3</td>\n",
       "      <td>1</td>\n",
       "      <td>0</td>\n",
       "    </tr>\n",
       "  </tbody>\n",
       "</table>\n",
       "</div>"
      ],
      "text/plain": [
       "  Amount  Category Description     Y  M  D Type\n",
       "3     70  Bollette        Luce  2024  4  5    0\n",
       "5     33  Bollette         gas  2024  3  1    0"
      ]
     },
     "execution_count": 11,
     "metadata": {},
     "output_type": "execute_result"
    }
   ],
   "source": [
    "df[df['Category'] == 'Bollette']"
   ]
  },
  {
   "cell_type": "code",
   "execution_count": 12,
   "metadata": {},
   "outputs": [
    {
     "data": {
      "text/html": [
       "<div>\n",
       "<style scoped>\n",
       "    .dataframe tbody tr th:only-of-type {\n",
       "        vertical-align: middle;\n",
       "    }\n",
       "\n",
       "    .dataframe tbody tr th {\n",
       "        vertical-align: top;\n",
       "    }\n",
       "\n",
       "    .dataframe thead th {\n",
       "        text-align: right;\n",
       "    }\n",
       "</style>\n",
       "<table border=\"1\" class=\"dataframe\">\n",
       "  <thead>\n",
       "    <tr style=\"text-align: right;\">\n",
       "      <th></th>\n",
       "      <th>Amount</th>\n",
       "      <th>Category</th>\n",
       "      <th>Description</th>\n",
       "      <th>Y</th>\n",
       "      <th>M</th>\n",
       "      <th>D</th>\n",
       "      <th>Type</th>\n",
       "    </tr>\n",
       "  </thead>\n",
       "  <tbody>\n",
       "    <tr>\n",
       "      <th>0</th>\n",
       "      <td>100</td>\n",
       "      <td>Food</td>\n",
       "      <td>Pizza</td>\n",
       "      <td>2024</td>\n",
       "      <td>5</td>\n",
       "      <td>1</td>\n",
       "      <td>0</td>\n",
       "    </tr>\n",
       "    <tr>\n",
       "      <th>2</th>\n",
       "      <td>10</td>\n",
       "      <td>Sport</td>\n",
       "      <td>Calcetto</td>\n",
       "      <td>2024</td>\n",
       "      <td>5</td>\n",
       "      <td>3</td>\n",
       "      <td>0</td>\n",
       "    </tr>\n",
       "    <tr>\n",
       "      <th>4</th>\n",
       "      <td>14</td>\n",
       "      <td>Food</td>\n",
       "      <td>spesa</td>\n",
       "      <td>2024</td>\n",
       "      <td>5</td>\n",
       "      <td>7</td>\n",
       "      <td>0</td>\n",
       "    </tr>\n",
       "  </tbody>\n",
       "</table>\n",
       "</div>"
      ],
      "text/plain": [
       "  Amount Category Description     Y  M  D Type\n",
       "0    100     Food       Pizza  2024  5  1    0\n",
       "2     10    Sport    Calcetto  2024  5  3    0\n",
       "4     14     Food       spesa  2024  5  7    0"
      ]
     },
     "execution_count": 12,
     "metadata": {},
     "output_type": "execute_result"
    }
   ],
   "source": [
    "df[df['M'] == 5]"
   ]
  },
  {
   "cell_type": "code",
   "execution_count": 54,
   "metadata": {},
   "outputs": [],
   "source": [
    "class wallet:\n",
    "    def __init__(self):\n",
    "        self.df = pd.DataFrame(columns=['Amount', 'Category', 'Description','Y', 'M', 'D','Type'])\n",
    "        self.outcome = self.df[self.df['Type'] == 0]['Amount'].sum()\n",
    "        self.income = self.df[self.df['Type'] == 1]['Amount'].sum()\n",
    "        self.amount = self.income - self.outcome\n",
    "        self.categories = self.df['Category'].unique()\n",
    "        self.start_date = (self.df['Y'].min(), self.df[self.df['Y'] == self.df['Y'].min()]['M'].min())\n",
    "        self.end_date = (self.df['Y'].max(), self.df[self.df['Y'] == self.df['Y'].max()]['M'].max())\n",
    "\n",
    "\n",
    "    \n",
    "    def add(self, amount: float, category: str, description: str , y: int, m: int, d: int, type: bool = 0):\n",
    "\n",
    "        if type == 0:\n",
    "            amount = -amount\n",
    "\n",
    "        # non usare append, è lento\n",
    "        self.df = pd.concat([self.df, pd.DataFrame({'Amount': [amount], 'Category': [category], 'Description': [description], 'Y': [y], 'M': [m], 'D': [d], 'Type': [type]})], ignore_index=True)\n",
    "\n",
    "        self.outcome = self.df[self.df['Type'] == 0]['Amount'].sum()\n",
    "        self.income = self.df[self.df['Type'] == 1]['Amount'].sum()\n",
    "        self.amount = self.income - self.outcome\n",
    "        self.categories = self.df['Category'].unique()\n",
    "        self.start_date = (self.df['Y'].min(), self.df[self.df['Y'] == self.df['Y'].min()]['M'].min())\n",
    "        self.end_date = (self.df['Y'].max(), self.df[self.df['Y'] == self.df['Y'].max()]['M'].max())\n",
    "        \n",
    "\n",
    "    def total(self):\n",
    "        return self.df['Amount'].sum()\n",
    "    \n",
    "    def total_category(self, category):\n",
    "        return self.df[self.df['Category'] == category]['Amount'].sum()\n",
    "    \n",
    "    def total_month(self, m):\n",
    "        return self.df[self.df['M'] == m]['Amount'].sum()\n",
    "    \n",
    "    def list_category(self, category):\n",
    "        return self.df[self.df['Category'] == category]\n",
    "    \n",
    "    def list_month(self, m):\n",
    "        return self.df[self.df['M'] == m]\n",
    "    \n",
    "    def list_all(self):\n",
    "        return self.df\n",
    "    \n",
    "    def list_income(self):\n",
    "        return self.df[self.df['Type'] == 1]\n",
    "    \n",
    "    def list_outcome(self):\n",
    "        return self.df[self.df['Type'] == 0]\n",
    "    \n",
    "    def __repr__(self) -> str:\n",
    "        return self.df.__repr__()\n",
    "    \n",
    "    def __str__(self) -> str:\n",
    "        return self.df.__str__()\n",
    "\n",
    "    def __len__(self):\n",
    "        return self.df.__len__()\n",
    "    \n",
    "    def __iter__(self):\n",
    "        return self.df.__iter__()\n",
    "\n",
    "    "
   ]
  },
  {
   "cell_type": "code",
   "execution_count": 55,
   "metadata": {},
   "outputs": [
    {
     "data": {
      "text/html": [
       "<div>\n",
       "<style scoped>\n",
       "    .dataframe tbody tr th:only-of-type {\n",
       "        vertical-align: middle;\n",
       "    }\n",
       "\n",
       "    .dataframe tbody tr th {\n",
       "        vertical-align: top;\n",
       "    }\n",
       "\n",
       "    .dataframe thead th {\n",
       "        text-align: right;\n",
       "    }\n",
       "</style>\n",
       "<table border=\"1\" class=\"dataframe\">\n",
       "  <thead>\n",
       "    <tr style=\"text-align: right;\">\n",
       "      <th></th>\n",
       "      <th>Amount</th>\n",
       "      <th>Category</th>\n",
       "      <th>Description</th>\n",
       "      <th>Y</th>\n",
       "      <th>M</th>\n",
       "      <th>D</th>\n",
       "      <th>Type</th>\n",
       "    </tr>\n",
       "  </thead>\n",
       "  <tbody>\n",
       "  </tbody>\n",
       "</table>\n",
       "</div>"
      ],
      "text/plain": [
       "Empty DataFrame\n",
       "Columns: [Amount, Category, Description, Y, M, D, Type]\n",
       "Index: []"
      ]
     },
     "execution_count": 55,
     "metadata": {},
     "output_type": "execute_result"
    }
   ],
   "source": [
    "wallet = wallet()\n",
    "wallet.list_all()"
   ]
  },
  {
   "cell_type": "code",
   "execution_count": 56,
   "metadata": {},
   "outputs": [],
   "source": [
    "wallet.add(25, 'Food', 'Cena', 2024, 4, 2, 0)\n",
    "wallet.add(100, 'Food', 'Pizza', 2024, 5, 1, 0)\n",
    "wallet.add(10, 'Sport', 'Calcetto', 2024, 5, 3, 0)\n",
    "wallet.add(70, 'Bollette', 'Luce', 2024, 4, 5, 0)\n",
    "wallet.add(14, 'Food', 'spesa', 2024, 5, 7, 0)\n",
    "wallet.add(33, 'Bollette', 'gas', 2024, 3, 1, 0)\n",
    "wallet.add(1000, 'Stipendio', 'Stipendio', 2024, 5, 1, 1)"
   ]
  },
  {
   "cell_type": "code",
   "execution_count": 58,
   "metadata": {},
   "outputs": [
    {
     "ename": "NameError",
     "evalue": "name 'df' is not defined",
     "output_type": "error",
     "traceback": [
      "\u001b[0;31m---------------------------------------------------------------------------\u001b[0m",
      "\u001b[0;31mNameError\u001b[0m                                 Traceback (most recent call last)",
      "Cell \u001b[0;32mIn[58], line 1\u001b[0m\n\u001b[0;32m----> 1\u001b[0m \u001b[43mwallet\u001b[49m\u001b[38;5;241;43m.\u001b[39;49m\u001b[43mtotal_category\u001b[49m\u001b[43m(\u001b[49m\u001b[38;5;124;43m'\u001b[39;49m\u001b[38;5;124;43mFood\u001b[39;49m\u001b[38;5;124;43m'\u001b[39;49m\u001b[43m)\u001b[49m\n",
      "Cell \u001b[0;32mIn[54], line 33\u001b[0m, in \u001b[0;36mwallet.total_category\u001b[0;34m(self, category)\u001b[0m\n\u001b[1;32m     32\u001b[0m \u001b[38;5;28;01mdef\u001b[39;00m \u001b[38;5;21mtotal_category\u001b[39m(\u001b[38;5;28mself\u001b[39m, category):\n\u001b[0;32m---> 33\u001b[0m     \u001b[38;5;28;01mreturn\u001b[39;00m \u001b[38;5;28mself\u001b[39m\u001b[38;5;241m.\u001b[39mdf[\u001b[43mdf\u001b[49m[\u001b[38;5;124m'\u001b[39m\u001b[38;5;124mCategory\u001b[39m\u001b[38;5;124m'\u001b[39m] \u001b[38;5;241m==\u001b[39m category][\u001b[38;5;124m'\u001b[39m\u001b[38;5;124mAmount\u001b[39m\u001b[38;5;124m'\u001b[39m]\u001b[38;5;241m.\u001b[39msum()\n",
      "\u001b[0;31mNameError\u001b[0m: name 'df' is not defined"
     ]
    }
   ],
   "source": [
    "wallet.total_category('Food')"
   ]
  },
  {
   "cell_type": "code",
   "execution_count": 57,
   "metadata": {},
   "outputs": [
    {
     "data": {
      "text/html": [
       "<div>\n",
       "<style scoped>\n",
       "    .dataframe tbody tr th:only-of-type {\n",
       "        vertical-align: middle;\n",
       "    }\n",
       "\n",
       "    .dataframe tbody tr th {\n",
       "        vertical-align: top;\n",
       "    }\n",
       "\n",
       "    .dataframe thead th {\n",
       "        text-align: right;\n",
       "    }\n",
       "</style>\n",
       "<table border=\"1\" class=\"dataframe\">\n",
       "  <thead>\n",
       "    <tr style=\"text-align: right;\">\n",
       "      <th></th>\n",
       "      <th>Amount</th>\n",
       "      <th>Category</th>\n",
       "      <th>Description</th>\n",
       "      <th>Y</th>\n",
       "      <th>M</th>\n",
       "      <th>D</th>\n",
       "      <th>Type</th>\n",
       "    </tr>\n",
       "  </thead>\n",
       "  <tbody>\n",
       "    <tr>\n",
       "      <th>0</th>\n",
       "      <td>-25</td>\n",
       "      <td>Food</td>\n",
       "      <td>Cena</td>\n",
       "      <td>2024</td>\n",
       "      <td>4</td>\n",
       "      <td>2</td>\n",
       "      <td>0</td>\n",
       "    </tr>\n",
       "    <tr>\n",
       "      <th>1</th>\n",
       "      <td>-100</td>\n",
       "      <td>Food</td>\n",
       "      <td>Pizza</td>\n",
       "      <td>2024</td>\n",
       "      <td>5</td>\n",
       "      <td>1</td>\n",
       "      <td>0</td>\n",
       "    </tr>\n",
       "    <tr>\n",
       "      <th>2</th>\n",
       "      <td>-10</td>\n",
       "      <td>Sport</td>\n",
       "      <td>Calcetto</td>\n",
       "      <td>2024</td>\n",
       "      <td>5</td>\n",
       "      <td>3</td>\n",
       "      <td>0</td>\n",
       "    </tr>\n",
       "    <tr>\n",
       "      <th>3</th>\n",
       "      <td>-70</td>\n",
       "      <td>Bollette</td>\n",
       "      <td>Luce</td>\n",
       "      <td>2024</td>\n",
       "      <td>4</td>\n",
       "      <td>5</td>\n",
       "      <td>0</td>\n",
       "    </tr>\n",
       "    <tr>\n",
       "      <th>4</th>\n",
       "      <td>-14</td>\n",
       "      <td>Food</td>\n",
       "      <td>spesa</td>\n",
       "      <td>2024</td>\n",
       "      <td>5</td>\n",
       "      <td>7</td>\n",
       "      <td>0</td>\n",
       "    </tr>\n",
       "    <tr>\n",
       "      <th>5</th>\n",
       "      <td>-33</td>\n",
       "      <td>Bollette</td>\n",
       "      <td>gas</td>\n",
       "      <td>2024</td>\n",
       "      <td>3</td>\n",
       "      <td>1</td>\n",
       "      <td>0</td>\n",
       "    </tr>\n",
       "    <tr>\n",
       "      <th>6</th>\n",
       "      <td>1000</td>\n",
       "      <td>Stipendio</td>\n",
       "      <td>Stipendio</td>\n",
       "      <td>2024</td>\n",
       "      <td>5</td>\n",
       "      <td>1</td>\n",
       "      <td>1</td>\n",
       "    </tr>\n",
       "  </tbody>\n",
       "</table>\n",
       "</div>"
      ],
      "text/plain": [
       "  Amount   Category Description     Y  M  D Type\n",
       "0    -25       Food        Cena  2024  4  2    0\n",
       "1   -100       Food       Pizza  2024  5  1    0\n",
       "2    -10      Sport    Calcetto  2024  5  3    0\n",
       "3    -70   Bollette        Luce  2024  4  5    0\n",
       "4    -14       Food       spesa  2024  5  7    0\n",
       "5    -33   Bollette         gas  2024  3  1    0\n",
       "6   1000  Stipendio   Stipendio  2024  5  1    1"
      ]
     },
     "execution_count": 57,
     "metadata": {},
     "output_type": "execute_result"
    }
   ],
   "source": [
    "wallet.list_all()"
   ]
  },
  {
   "cell_type": "code",
   "execution_count": 53,
   "metadata": {},
   "outputs": [
    {
     "data": {
      "text/plain": [
       "array(['Food', 'Sport', 'Bollette', 'Stipendio'], dtype=object)"
      ]
     },
     "execution_count": 53,
     "metadata": {},
     "output_type": "execute_result"
    }
   ],
   "source": [
    "wallet.categories"
   ]
  },
  {
   "cell_type": "code",
   "execution_count": 40,
   "metadata": {},
   "outputs": [
    {
     "data": {
      "text/plain": [
       "-252"
      ]
     },
     "execution_count": 40,
     "metadata": {},
     "output_type": "execute_result"
    }
   ],
   "source": [
    "wallet.total()"
   ]
  },
  {
   "cell_type": "code",
   "execution_count": 41,
   "metadata": {},
   "outputs": [
    {
     "data": {
      "text/plain": [
       "-139"
      ]
     },
     "execution_count": 41,
     "metadata": {},
     "output_type": "execute_result"
    }
   ],
   "source": [
    "wallet.total_category('Food')"
   ]
  },
  {
   "cell_type": "code",
   "execution_count": 42,
   "metadata": {},
   "outputs": [
    {
     "data": {
      "text/html": [
       "<div>\n",
       "<style scoped>\n",
       "    .dataframe tbody tr th:only-of-type {\n",
       "        vertical-align: middle;\n",
       "    }\n",
       "\n",
       "    .dataframe tbody tr th {\n",
       "        vertical-align: top;\n",
       "    }\n",
       "\n",
       "    .dataframe thead th {\n",
       "        text-align: right;\n",
       "    }\n",
       "</style>\n",
       "<table border=\"1\" class=\"dataframe\">\n",
       "  <thead>\n",
       "    <tr style=\"text-align: right;\">\n",
       "      <th></th>\n",
       "      <th>Amount</th>\n",
       "      <th>Category</th>\n",
       "      <th>Description</th>\n",
       "      <th>Y</th>\n",
       "      <th>M</th>\n",
       "      <th>D</th>\n",
       "      <th>Type</th>\n",
       "    </tr>\n",
       "  </thead>\n",
       "  <tbody>\n",
       "    <tr>\n",
       "      <th>0</th>\n",
       "      <td>-25</td>\n",
       "      <td>Food</td>\n",
       "      <td>Cena</td>\n",
       "      <td>2024</td>\n",
       "      <td>4</td>\n",
       "      <td>2</td>\n",
       "      <td>0</td>\n",
       "    </tr>\n",
       "    <tr>\n",
       "      <th>1</th>\n",
       "      <td>-100</td>\n",
       "      <td>Food</td>\n",
       "      <td>Pizza</td>\n",
       "      <td>2024</td>\n",
       "      <td>5</td>\n",
       "      <td>1</td>\n",
       "      <td>0</td>\n",
       "    </tr>\n",
       "    <tr>\n",
       "      <th>4</th>\n",
       "      <td>-14</td>\n",
       "      <td>Food</td>\n",
       "      <td>spesa</td>\n",
       "      <td>2024</td>\n",
       "      <td>5</td>\n",
       "      <td>7</td>\n",
       "      <td>0</td>\n",
       "    </tr>\n",
       "  </tbody>\n",
       "</table>\n",
       "</div>"
      ],
      "text/plain": [
       "  Amount Category Description     Y  M  D Type\n",
       "0    -25     Food        Cena  2024  4  2    0\n",
       "1   -100     Food       Pizza  2024  5  1    0\n",
       "4    -14     Food       spesa  2024  5  7    0"
      ]
     },
     "execution_count": 42,
     "metadata": {},
     "output_type": "execute_result"
    }
   ],
   "source": [
    "wallet.list_category('Food')"
   ]
  },
  {
   "cell_type": "code",
   "execution_count": 43,
   "metadata": {},
   "outputs": [
    {
     "data": {
      "text/plain": [
       "-49"
      ]
     },
     "execution_count": 43,
     "metadata": {},
     "output_type": "execute_result"
    }
   ],
   "source": [
    "wallet.total_month(5)"
   ]
  },
  {
   "cell_type": "code",
   "execution_count": 44,
   "metadata": {},
   "outputs": [
    {
     "data": {
      "text/html": [
       "<div>\n",
       "<style scoped>\n",
       "    .dataframe tbody tr th:only-of-type {\n",
       "        vertical-align: middle;\n",
       "    }\n",
       "\n",
       "    .dataframe tbody tr th {\n",
       "        vertical-align: top;\n",
       "    }\n",
       "\n",
       "    .dataframe thead th {\n",
       "        text-align: right;\n",
       "    }\n",
       "</style>\n",
       "<table border=\"1\" class=\"dataframe\">\n",
       "  <thead>\n",
       "    <tr style=\"text-align: right;\">\n",
       "      <th></th>\n",
       "      <th>Amount</th>\n",
       "      <th>Category</th>\n",
       "      <th>Description</th>\n",
       "      <th>Y</th>\n",
       "      <th>M</th>\n",
       "      <th>D</th>\n",
       "      <th>Type</th>\n",
       "    </tr>\n",
       "  </thead>\n",
       "  <tbody>\n",
       "    <tr>\n",
       "      <th>0</th>\n",
       "      <td>-25</td>\n",
       "      <td>Food</td>\n",
       "      <td>Cena</td>\n",
       "      <td>2024</td>\n",
       "      <td>4</td>\n",
       "      <td>2</td>\n",
       "      <td>0</td>\n",
       "    </tr>\n",
       "    <tr>\n",
       "      <th>2</th>\n",
       "      <td>-10</td>\n",
       "      <td>Sport</td>\n",
       "      <td>Calcetto</td>\n",
       "      <td>2024</td>\n",
       "      <td>5</td>\n",
       "      <td>3</td>\n",
       "      <td>0</td>\n",
       "    </tr>\n",
       "    <tr>\n",
       "      <th>4</th>\n",
       "      <td>-14</td>\n",
       "      <td>Food</td>\n",
       "      <td>spesa</td>\n",
       "      <td>2024</td>\n",
       "      <td>5</td>\n",
       "      <td>7</td>\n",
       "      <td>0</td>\n",
       "    </tr>\n",
       "  </tbody>\n",
       "</table>\n",
       "</div>"
      ],
      "text/plain": [
       "  Amount Category Description     Y  M  D Type\n",
       "0    -25     Food        Cena  2024  4  2    0\n",
       "2    -10    Sport    Calcetto  2024  5  3    0\n",
       "4    -14     Food       spesa  2024  5  7    0"
      ]
     },
     "execution_count": 44,
     "metadata": {},
     "output_type": "execute_result"
    }
   ],
   "source": [
    "wallet.list_month(5)"
   ]
  },
  {
   "cell_type": "code",
   "execution_count": 45,
   "metadata": {},
   "outputs": [
    {
     "name": "stderr",
     "output_type": "stream",
     "text": [
      "/tmp/ipykernel_4724/24822447.py:10: FutureWarning: The frame.append method is deprecated and will be removed from pandas in a future version. Use pandas.concat instead.\n",
      "  self.df = self.df.append({'Amount': amount, 'Category': category, 'Description': description, 'Y': y, 'M': m, 'D': d, 'Type': type}, ignore_index=True)\n"
     ]
    },
    {
     "data": {
      "text/html": [
       "<div>\n",
       "<style scoped>\n",
       "    .dataframe tbody tr th:only-of-type {\n",
       "        vertical-align: middle;\n",
       "    }\n",
       "\n",
       "    .dataframe tbody tr th {\n",
       "        vertical-align: top;\n",
       "    }\n",
       "\n",
       "    .dataframe thead th {\n",
       "        text-align: right;\n",
       "    }\n",
       "</style>\n",
       "<table border=\"1\" class=\"dataframe\">\n",
       "  <thead>\n",
       "    <tr style=\"text-align: right;\">\n",
       "      <th></th>\n",
       "      <th>Amount</th>\n",
       "      <th>Category</th>\n",
       "      <th>Description</th>\n",
       "      <th>Y</th>\n",
       "      <th>M</th>\n",
       "      <th>D</th>\n",
       "      <th>Type</th>\n",
       "    </tr>\n",
       "  </thead>\n",
       "  <tbody>\n",
       "    <tr>\n",
       "      <th>0</th>\n",
       "      <td>-25</td>\n",
       "      <td>Food</td>\n",
       "      <td>Cena</td>\n",
       "      <td>2024</td>\n",
       "      <td>4</td>\n",
       "      <td>2</td>\n",
       "      <td>0</td>\n",
       "    </tr>\n",
       "    <tr>\n",
       "      <th>1</th>\n",
       "      <td>-100</td>\n",
       "      <td>Food</td>\n",
       "      <td>Pizza</td>\n",
       "      <td>2024</td>\n",
       "      <td>5</td>\n",
       "      <td>1</td>\n",
       "      <td>0</td>\n",
       "    </tr>\n",
       "    <tr>\n",
       "      <th>2</th>\n",
       "      <td>-10</td>\n",
       "      <td>Sport</td>\n",
       "      <td>Calcetto</td>\n",
       "      <td>2024</td>\n",
       "      <td>5</td>\n",
       "      <td>3</td>\n",
       "      <td>0</td>\n",
       "    </tr>\n",
       "    <tr>\n",
       "      <th>3</th>\n",
       "      <td>-70</td>\n",
       "      <td>Bollette</td>\n",
       "      <td>Luce</td>\n",
       "      <td>2024</td>\n",
       "      <td>4</td>\n",
       "      <td>5</td>\n",
       "      <td>0</td>\n",
       "    </tr>\n",
       "    <tr>\n",
       "      <th>4</th>\n",
       "      <td>-14</td>\n",
       "      <td>Food</td>\n",
       "      <td>spesa</td>\n",
       "      <td>2024</td>\n",
       "      <td>5</td>\n",
       "      <td>7</td>\n",
       "      <td>0</td>\n",
       "    </tr>\n",
       "    <tr>\n",
       "      <th>5</th>\n",
       "      <td>-33</td>\n",
       "      <td>Bollette</td>\n",
       "      <td>gas</td>\n",
       "      <td>2024</td>\n",
       "      <td>3</td>\n",
       "      <td>1</td>\n",
       "      <td>0</td>\n",
       "    </tr>\n",
       "    <tr>\n",
       "      <th>6</th>\n",
       "      <td>1000</td>\n",
       "      <td>Stipendio</td>\n",
       "      <td>Stipendio</td>\n",
       "      <td>2024</td>\n",
       "      <td>5</td>\n",
       "      <td>15</td>\n",
       "      <td>1</td>\n",
       "    </tr>\n",
       "  </tbody>\n",
       "</table>\n",
       "</div>"
      ],
      "text/plain": [
       "  Amount   Category Description     Y  M   D Type\n",
       "0    -25       Food        Cena  2024  4   2    0\n",
       "1   -100       Food       Pizza  2024  5   1    0\n",
       "2    -10      Sport    Calcetto  2024  5   3    0\n",
       "3    -70   Bollette        Luce  2024  4   5    0\n",
       "4    -14       Food       spesa  2024  5   7    0\n",
       "5    -33   Bollette         gas  2024  3   1    0\n",
       "6   1000  Stipendio   Stipendio  2024  5  15    1"
      ]
     },
     "execution_count": 45,
     "metadata": {},
     "output_type": "execute_result"
    }
   ],
   "source": [
    "wallet.add(1000, 'Stipendio', 'Stipendio', 2024, 5, 15, 1)\n",
    "wallet.list_all()"
   ]
  },
  {
   "cell_type": "code",
   "execution_count": 46,
   "metadata": {},
   "outputs": [
    {
     "data": {
      "text/plain": [
       "748"
      ]
     },
     "execution_count": 46,
     "metadata": {},
     "output_type": "execute_result"
    }
   ],
   "source": [
    "wallet.total()"
   ]
  },
  {
   "cell_type": "code",
   "execution_count": 47,
   "metadata": {},
   "outputs": [],
   "source": [
    "# create a GUI with tkinter\n",
    "\n",
    "import tkinter as tk\n",
    "\n",
    "class WalletApp:\n",
    "    def __init__(self):\n",
    "        self.wallet = wallet()\n",
    "        \n",
    "        self.window = tk.Tk()\n",
    "        self.window.title('Wallet App')\n",
    "        \n",
    "        self.amount_label = tk.Label(self.window, text='Amount')\n",
    "        self.amount_label.pack()\n",
    "        \n",
    "        self.amount_entry = tk.Entry(self.window)\n",
    "        self.amount_entry.pack()\n",
    "        \n",
    "        self.category_label = tk.Label(self.window, text='Category')\n",
    "        self.category_label.pack()\n",
    "        \n",
    "        self.category_entry = tk.Entry(self.window)\n",
    "        self.category_entry.pack()\n",
    "        \n",
    "        self.description_label = tk.Label(self.window, text='Description')\n",
    "        self.description_label.pack()\n",
    "        \n",
    "        self.description_entry = tk.Entry(self.window)\n",
    "        self.description_entry.pack()\n",
    "        \n",
    "        self.y_label = tk.Label(self.window, text='Year')\n",
    "        self.y_label.pack()\n",
    "        \n",
    "        self.y_entry = tk.Entry(self.window)\n",
    "        self.y_entry.pack()\n",
    "        \n",
    "        self.m_label = tk.Label(self.window, text='Month')\n",
    "        self.m_label.pack()\n",
    "        \n",
    "        self.m_entry = tk.Entry(self.window)\n",
    "        self.m_entry.pack()\n",
    "        \n",
    "        self.d_label = tk.Label(self.window, text='Day')\n",
    "        self.d_label.pack()\n",
    "        \n",
    "        self.d_entry = tk.Entry(self.window)\n",
    "        self.d_entry.pack()\n",
    "        \n",
    "        self.type_label = tk.Label(self.window, text='Type')\n",
    "        self.type_label.pack()\n",
    "        \n",
    "        self.type_entry = tk.Entry(self.window)\n",
    "        self.type_entry.pack()\n",
    "        \n",
    "        self.add_button = tk.Button(self.window, text='Add', command=self.add)\n",
    "        self.add_button.pack()\n",
    "        \n",
    "        self.total_button = tk.Button(self.window, text='Total', command=self.total)\n",
    "        self.total_button.pack()\n",
    "        \n",
    "        self.total_category_button = tk.Button(self.window, text='Total Category', command=self.total_category)\n",
    "        self.total_category_button.pack()\n",
    "        \n",
    "        self.list_category_button = tk.Button(self.window, text='List Category', command=self.list_category)\n",
    "        self.list_category_button.pack()\n",
    "        \n",
    "        self.total_month_button = tk.Button(self.window, text='Total Month', command=self.total_month)\n",
    "        self.total_month_button.pack()\n",
    "        \n",
    "        self.list_month_button = tk.Button(self.window, text='List Month', command=self.list_month)\n",
    "        self.list_month_button.pack()\n",
    "        \n",
    "        self.list_all_button = tk.Button(self.window, text='List All', command=self.list_all)\n",
    "        self.list_all_button.pack()\n",
    "        \n",
    "    def add(self):\n",
    "        amount\n",
    "        category\n",
    "        description\n",
    "        y\n",
    "        m\n",
    "        d\n",
    "        type\n",
    "    "
   ]
  },
  {
   "cell_type": "code",
   "execution_count": 48,
   "metadata": {},
   "outputs": [
    {
     "ename": "TypeError",
     "evalue": "'wallet' object is not callable",
     "output_type": "error",
     "traceback": [
      "\u001b[0;31m---------------------------------------------------------------------------\u001b[0m",
      "\u001b[0;31mTypeError\u001b[0m                                 Traceback (most recent call last)",
      "Cell \u001b[0;32mIn[48], line 2\u001b[0m\n\u001b[1;32m      1\u001b[0m \u001b[38;5;66;03m# prova\u001b[39;00m\n\u001b[0;32m----> 2\u001b[0m app \u001b[38;5;241m=\u001b[39m \u001b[43mWalletApp\u001b[49m\u001b[43m(\u001b[49m\u001b[43m)\u001b[49m\n\u001b[1;32m      3\u001b[0m app\u001b[38;5;241m.\u001b[39mwindow\u001b[38;5;241m.\u001b[39mmainloop()\n",
      "Cell \u001b[0;32mIn[47], line 7\u001b[0m, in \u001b[0;36mWalletApp.__init__\u001b[0;34m(self)\u001b[0m\n\u001b[1;32m      6\u001b[0m \u001b[38;5;28;01mdef\u001b[39;00m \u001b[38;5;21m__init__\u001b[39m(\u001b[38;5;28mself\u001b[39m):\n\u001b[0;32m----> 7\u001b[0m     \u001b[38;5;28mself\u001b[39m\u001b[38;5;241m.\u001b[39mwallet \u001b[38;5;241m=\u001b[39m \u001b[43mwallet\u001b[49m\u001b[43m(\u001b[49m\u001b[43m)\u001b[49m\n\u001b[1;32m      9\u001b[0m     \u001b[38;5;28mself\u001b[39m\u001b[38;5;241m.\u001b[39mwindow \u001b[38;5;241m=\u001b[39m tk\u001b[38;5;241m.\u001b[39mTk()\n\u001b[1;32m     10\u001b[0m     \u001b[38;5;28mself\u001b[39m\u001b[38;5;241m.\u001b[39mwindow\u001b[38;5;241m.\u001b[39mtitle(\u001b[38;5;124m'\u001b[39m\u001b[38;5;124mWallet App\u001b[39m\u001b[38;5;124m'\u001b[39m)\n",
      "\u001b[0;31mTypeError\u001b[0m: 'wallet' object is not callable"
     ]
    }
   ],
   "source": [
    "# prova\n",
    "app = WalletApp()\n",
    "app.window.mainloop()\n"
   ]
  },
  {
   "cell_type": "code",
   "execution_count": null,
   "metadata": {},
   "outputs": [],
   "source": []
  }
 ],
 "metadata": {
  "kernelspec": {
   "display_name": "base",
   "language": "python",
   "name": "python3"
  },
  "language_info": {
   "codemirror_mode": {
    "name": "ipython",
    "version": 3
   },
   "file_extension": ".py",
   "mimetype": "text/x-python",
   "name": "python",
   "nbconvert_exporter": "python",
   "pygments_lexer": "ipython3",
   "version": "3.10.9"
  }
 },
 "nbformat": 4,
 "nbformat_minor": 2
}
